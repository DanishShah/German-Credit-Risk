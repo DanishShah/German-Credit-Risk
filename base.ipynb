{
 "cells": [
  {
   "cell_type": "code",
   "execution_count": 24,
   "metadata": {},
   "outputs": [],
   "source": [
    "import numpy as np\n",
    "import pandas as pd\n",
    "import matplotlib.pyplot as plt\n",
    "import seaborn as sns\n",
    "from sklearn.model_selection import train_test_split"
   ]
  },
  {
   "cell_type": "code",
   "execution_count": 108,
   "metadata": {},
   "outputs": [],
   "source": [
    "def get_data():\n",
    "    columns = [\"checking_ac\", \"duration\", \"credit_history\", \"purpose\", \"amount\", \"saving_ac\",\n",
    "           \"employment_status\", \"installment_rate\", 'personal_status_sex', \"debtor_guarantor\", \"residence_since\",\n",
    "          \"property\", \"age\", \"installment_plan\", \"housing\", \"existing_credits\", \"job\", \"liable_count\", \"telephone\",\n",
    "          \"foreign_worker\", \"target\"]\n",
    "    df = pd.read_csv(\"./german.data2.csv\", delimiter=' ', index_col=False, names=columns)\n",
    "    \n",
    "    cat_cols = []\n",
    "    for col in df.columns:\n",
    "        if len(df[col].unique()) < 11:\n",
    "            cat_cols.append(col)\n",
    "            df[col]=df[col].astype('category')\n",
    "    return df"
   ]
  }
 ],
 "metadata": {
  "kernelspec": {
   "display_name": "Python 3",
   "language": "python",
   "name": "python3"
  },
  "language_info": {
   "codemirror_mode": {
    "name": "ipython",
    "version": 3
   },
   "file_extension": ".py",
   "mimetype": "text/x-python",
   "name": "python",
   "nbconvert_exporter": "python",
   "pygments_lexer": "ipython3",
   "version": "3.6.4"
  }
 },
 "nbformat": 4,
 "nbformat_minor": 2
}
